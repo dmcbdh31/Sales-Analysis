{
 "cells": [
  {
   "attachments": {},
   "cell_type": "markdown",
   "metadata": {},
   "source": [
    "**Exploratory Data Analysis Part 1**\n"
   ]
  },
  {
   "attachments": {},
   "cell_type": "markdown",
   "metadata": {},
   "source": [
    "Import Pandas, Matplotlib and MySQL Connector"
   ]
  },
  {
   "cell_type": "code",
   "execution_count": 1,
   "metadata": {},
   "outputs": [],
   "source": [
    "import pandas as pd\n",
    "import matplotlib.pyplot as plt\n",
    "import mysql.connector as connection\n"
   ]
  },
  {
   "attachments": {},
   "cell_type": "markdown",
   "metadata": {},
   "source": [
    "SQL Query"
   ]
  },
  {
   "cell_type": "code",
   "execution_count": 2,
   "metadata": {},
   "outputs": [
    {
     "name": "stderr",
     "output_type": "stream",
     "text": [
      "c:\\Users\\Nae\\anaconda3\\lib\\site-packages\\pandas\\io\\sql.py:761: UserWarning: pandas only support SQLAlchemy connectable(engine/connection) ordatabase string URI or sqlite3 DBAPI2 connectionother DBAPI2 objects are not tested, please consider using SQLAlchemy\n",
      "  warnings.warn(\n"
     ]
    },
    {
     "data": {
      "text/html": [
       "<div>\n",
       "<style scoped>\n",
       "    .dataframe tbody tr th:only-of-type {\n",
       "        vertical-align: middle;\n",
       "    }\n",
       "\n",
       "    .dataframe tbody tr th {\n",
       "        vertical-align: top;\n",
       "    }\n",
       "\n",
       "    .dataframe thead th {\n",
       "        text-align: right;\n",
       "    }\n",
       "</style>\n",
       "<table border=\"1\" class=\"dataframe\">\n",
       "  <thead>\n",
       "    <tr style=\"text-align: right;\">\n",
       "      <th></th>\n",
       "      <th>Invoice_ID</th>\n",
       "      <th>Customer_Type</th>\n",
       "      <th>Gender</th>\n",
       "      <th>Product_Line</th>\n",
       "      <th>Unit_Price</th>\n",
       "      <th>Quantity</th>\n",
       "      <th>Sales_Tax</th>\n",
       "      <th>Total</th>\n",
       "      <th>Date</th>\n",
       "      <th>Time</th>\n",
       "      <th>Payment</th>\n",
       "      <th>COGS</th>\n",
       "      <th>Gross_Income</th>\n",
       "      <th>Rating</th>\n",
       "      <th>City</th>\n",
       "    </tr>\n",
       "    <tr>\n",
       "      <th>City_ID</th>\n",
       "      <th></th>\n",
       "      <th></th>\n",
       "      <th></th>\n",
       "      <th></th>\n",
       "      <th></th>\n",
       "      <th></th>\n",
       "      <th></th>\n",
       "      <th></th>\n",
       "      <th></th>\n",
       "      <th></th>\n",
       "      <th></th>\n",
       "      <th></th>\n",
       "      <th></th>\n",
       "      <th></th>\n",
       "      <th></th>\n",
       "    </tr>\n",
       "  </thead>\n",
       "  <tbody>\n",
       "    <tr>\n",
       "      <th>1</th>\n",
       "      <td>101-17-6199</td>\n",
       "      <td>Normal</td>\n",
       "      <td>Male</td>\n",
       "      <td>Food and beverages</td>\n",
       "      <td>45.79</td>\n",
       "      <td>7</td>\n",
       "      <td>None</td>\n",
       "      <td>336.5565</td>\n",
       "      <td>3/13/2019</td>\n",
       "      <td>19:44</td>\n",
       "      <td>Credit card</td>\n",
       "      <td>320.53</td>\n",
       "      <td>16.0265</td>\n",
       "      <td>7.0</td>\n",
       "      <td>Seattle</td>\n",
       "    </tr>\n",
       "    <tr>\n",
       "      <th>3</th>\n",
       "      <td>101-81-4070</td>\n",
       "      <td>Member</td>\n",
       "      <td>Female</td>\n",
       "      <td>Health and beauty</td>\n",
       "      <td>62.82</td>\n",
       "      <td>2</td>\n",
       "      <td>None</td>\n",
       "      <td>131.9220</td>\n",
       "      <td>1/17/2019</td>\n",
       "      <td>12:36</td>\n",
       "      <td>Ewallet</td>\n",
       "      <td>125.64</td>\n",
       "      <td>6.2820</td>\n",
       "      <td>4.9</td>\n",
       "      <td>Milwaukee</td>\n",
       "    </tr>\n",
       "    <tr>\n",
       "      <th>3</th>\n",
       "      <td>102-06-2002</td>\n",
       "      <td>Member</td>\n",
       "      <td>Male</td>\n",
       "      <td>Sports and travel</td>\n",
       "      <td>25.25</td>\n",
       "      <td>5</td>\n",
       "      <td>None</td>\n",
       "      <td>132.5625</td>\n",
       "      <td>3/20/2019</td>\n",
       "      <td>17:52</td>\n",
       "      <td>Cash</td>\n",
       "      <td>126.25</td>\n",
       "      <td>6.3125</td>\n",
       "      <td>6.1</td>\n",
       "      <td>Milwaukee</td>\n",
       "    </tr>\n",
       "    <tr>\n",
       "      <th>3</th>\n",
       "      <td>102-77-2261</td>\n",
       "      <td>Member</td>\n",
       "      <td>Male</td>\n",
       "      <td>Health and beauty</td>\n",
       "      <td>65.31</td>\n",
       "      <td>7</td>\n",
       "      <td>None</td>\n",
       "      <td>480.0285</td>\n",
       "      <td>3/5/2019</td>\n",
       "      <td>18:02</td>\n",
       "      <td>Credit card</td>\n",
       "      <td>457.17</td>\n",
       "      <td>22.8585</td>\n",
       "      <td>4.2</td>\n",
       "      <td>Milwaukee</td>\n",
       "    </tr>\n",
       "    <tr>\n",
       "      <th>1</th>\n",
       "      <td>105-10-6182</td>\n",
       "      <td>Member</td>\n",
       "      <td>Male</td>\n",
       "      <td>Fashion accessories</td>\n",
       "      <td>21.48</td>\n",
       "      <td>2</td>\n",
       "      <td>None</td>\n",
       "      <td>45.1080</td>\n",
       "      <td>2/27/2019</td>\n",
       "      <td>12:22</td>\n",
       "      <td>Ewallet</td>\n",
       "      <td>42.96</td>\n",
       "      <td>2.1480</td>\n",
       "      <td>6.6</td>\n",
       "      <td>Seattle</td>\n",
       "    </tr>\n",
       "  </tbody>\n",
       "</table>\n",
       "</div>"
      ],
      "text/plain": [
       "          Invoice_ID Customer_Type  Gender         Product_Line  Unit_Price  \\\n",
       "City_ID                                                                       \n",
       "1        101-17-6199        Normal    Male   Food and beverages       45.79   \n",
       "3        101-81-4070        Member  Female    Health and beauty       62.82   \n",
       "3        102-06-2002        Member    Male    Sports and travel       25.25   \n",
       "3        102-77-2261        Member    Male    Health and beauty       65.31   \n",
       "1        105-10-6182        Member    Male  Fashion accessories       21.48   \n",
       "\n",
       "         Quantity Sales_Tax     Total       Date   Time      Payment    COGS  \\\n",
       "City_ID                                                                        \n",
       "1               7      None  336.5565  3/13/2019  19:44  Credit card  320.53   \n",
       "3               2      None  131.9220  1/17/2019  12:36      Ewallet  125.64   \n",
       "3               5      None  132.5625  3/20/2019  17:52         Cash  126.25   \n",
       "3               7      None  480.0285   3/5/2019  18:02  Credit card  457.17   \n",
       "1               2      None   45.1080  2/27/2019  12:22      Ewallet   42.96   \n",
       "\n",
       "         Gross_Income  Rating       City  \n",
       "City_ID                                   \n",
       "1             16.0265     7.0    Seattle  \n",
       "3              6.2820     4.9  Milwaukee  \n",
       "3              6.3125     6.1  Milwaukee  \n",
       "3             22.8585     4.2  Milwaukee  \n",
       "1              2.1480     6.6    Seattle  "
      ]
     },
     "execution_count": 2,
     "metadata": {},
     "output_type": "execute_result"
    }
   ],
   "source": [
    "myremotedb = connection.connect(host=\"devcodecamp-mysql.c5p7yvjq1h8y.us-east-2.rds.amazonaws.com\",\n",
    "                                database=\"salesdb\", user=\"root\", password=\"D3v$tudent\", use_pure=\"True\")\n",
    "select_query = \"SELECT * FROM salesdb.sales JOIN salesdb.cities USING (City_ID);\"\n",
    "\n",
    "remotedf = pd.read_sql_query(select_query, myremotedb, index_col=\"City_ID\")\n",
    "\n",
    "remotedf.head()\n"
   ]
  },
  {
   "attachments": {},
   "cell_type": "markdown",
   "metadata": {},
   "source": [
    "Check Null items"
   ]
  },
  {
   "cell_type": "code",
   "execution_count": 3,
   "metadata": {},
   "outputs": [
    {
     "name": "stdout",
     "output_type": "stream",
     "text": [
      "<class 'pandas.core.frame.DataFrame'>\n",
      "Int64Index: 0 entries\n",
      "Data columns (total 15 columns):\n",
      " #   Column         Non-Null Count  Dtype  \n",
      "---  ------         --------------  -----  \n",
      " 0   Invoice_ID     0 non-null      object \n",
      " 1   Customer_Type  0 non-null      object \n",
      " 2   Gender         0 non-null      object \n",
      " 3   Product_Line   0 non-null      object \n",
      " 4   Unit_Price     0 non-null      float64\n",
      " 5   Quantity       0 non-null      int64  \n",
      " 6   Sales_Tax      0 non-null      object \n",
      " 7   Total          0 non-null      float64\n",
      " 8   Date           0 non-null      object \n",
      " 9   Time           0 non-null      object \n",
      " 10  Payment        0 non-null      object \n",
      " 11  COGS           0 non-null      float64\n",
      " 12  Gross_Income   0 non-null      float64\n",
      " 13  Rating         0 non-null      float64\n",
      " 14  City           0 non-null      object \n",
      "dtypes: float64(5), int64(1), object(9)\n",
      "memory usage: 0.0+ bytes\n"
     ]
    }
   ],
   "source": [
    "nonnull_remotedf = remotedf.dropna()\n",
    "nonnull_remotedf.info()\n"
   ]
  },
  {
   "attachments": {},
   "cell_type": "markdown",
   "metadata": {},
   "source": [
    "Check for duplicates"
   ]
  },
  {
   "cell_type": "code",
   "execution_count": 4,
   "metadata": {},
   "outputs": [
    {
     "data": {
      "text/html": [
       "<div>\n",
       "<style scoped>\n",
       "    .dataframe tbody tr th:only-of-type {\n",
       "        vertical-align: middle;\n",
       "    }\n",
       "\n",
       "    .dataframe tbody tr th {\n",
       "        vertical-align: top;\n",
       "    }\n",
       "\n",
       "    .dataframe thead th {\n",
       "        text-align: right;\n",
       "    }\n",
       "</style>\n",
       "<table border=\"1\" class=\"dataframe\">\n",
       "  <thead>\n",
       "    <tr style=\"text-align: right;\">\n",
       "      <th></th>\n",
       "      <th>Invoice_ID</th>\n",
       "      <th>Customer_Type</th>\n",
       "      <th>Gender</th>\n",
       "      <th>Product_Line</th>\n",
       "      <th>Unit_Price</th>\n",
       "      <th>Quantity</th>\n",
       "      <th>Sales_Tax</th>\n",
       "      <th>Total</th>\n",
       "      <th>Date</th>\n",
       "      <th>Time</th>\n",
       "      <th>Payment</th>\n",
       "      <th>COGS</th>\n",
       "      <th>Gross_Income</th>\n",
       "      <th>Rating</th>\n",
       "      <th>City</th>\n",
       "    </tr>\n",
       "    <tr>\n",
       "      <th>City_ID</th>\n",
       "      <th></th>\n",
       "      <th></th>\n",
       "      <th></th>\n",
       "      <th></th>\n",
       "      <th></th>\n",
       "      <th></th>\n",
       "      <th></th>\n",
       "      <th></th>\n",
       "      <th></th>\n",
       "      <th></th>\n",
       "      <th></th>\n",
       "      <th></th>\n",
       "      <th></th>\n",
       "      <th></th>\n",
       "      <th></th>\n",
       "    </tr>\n",
       "  </thead>\n",
       "  <tbody>\n",
       "  </tbody>\n",
       "</table>\n",
       "</div>"
      ],
      "text/plain": [
       "Empty DataFrame\n",
       "Columns: [Invoice_ID, Customer_Type, Gender, Product_Line, Unit_Price, Quantity, Sales_Tax, Total, Date, Time, Payment, COGS, Gross_Income, Rating, City]\n",
       "Index: []"
      ]
     },
     "execution_count": 4,
     "metadata": {},
     "output_type": "execute_result"
    }
   ],
   "source": [
    "nonnull_remotedf.duplicated().sort_values()\n",
    "nonnull_remotedf[nonnull_remotedf.duplicated()]\n"
   ]
  },
  {
   "attachments": {},
   "cell_type": "markdown",
   "metadata": {},
   "source": [
    "Convert to Pandas datetime"
   ]
  },
  {
   "cell_type": "code",
   "execution_count": 5,
   "metadata": {},
   "outputs": [
    {
     "name": "stdout",
     "output_type": "stream",
     "text": [
      "<class 'pandas.core.frame.DataFrame'>\n",
      "Int64Index: 1000 entries, 1 to 1\n",
      "Data columns (total 15 columns):\n",
      " #   Column         Non-Null Count  Dtype         \n",
      "---  ------         --------------  -----         \n",
      " 0   Invoice_ID     1000 non-null   object        \n",
      " 1   Customer_Type  1000 non-null   object        \n",
      " 2   Gender         1000 non-null   object        \n",
      " 3   Product_Line   1000 non-null   object        \n",
      " 4   Unit_Price     1000 non-null   float64       \n",
      " 5   Quantity       1000 non-null   int64         \n",
      " 6   Sales_Tax      0 non-null      object        \n",
      " 7   Total          1000 non-null   float64       \n",
      " 8   Date           1000 non-null   datetime64[ns]\n",
      " 9   Time           1000 non-null   datetime64[ns]\n",
      " 10  Payment        1000 non-null   object        \n",
      " 11  COGS           1000 non-null   float64       \n",
      " 12  Gross_Income   1000 non-null   float64       \n",
      " 13  Rating         1000 non-null   float64       \n",
      " 14  City           1000 non-null   object        \n",
      "dtypes: datetime64[ns](2), float64(5), int64(1), object(7)\n",
      "memory usage: 125.0+ KB\n"
     ]
    }
   ],
   "source": [
    "remotedf[\"Date\"] = pd.to_datetime(remotedf[\"Date\"])\n",
    "remotedf[\"Time\"] = pd.to_datetime(remotedf[\"Time\"])\n",
    "remotedf.info()\n",
    "\n"
   ]
  },
  {
   "attachments": {},
   "cell_type": "markdown",
   "metadata": {},
   "source": [
    "Sales made for members vs normal customers"
   ]
  },
  {
   "cell_type": "code",
   "execution_count": 7,
   "metadata": {},
   "outputs": [
    {
     "data": {
      "image/png": "[encoded data removed]",
      "text/plain": [
       "<Figure size 1440x720 with 1 Axes>"
      ]
     },
     "metadata": {
      "needs_background": "light"
     },
     "output_type": "display_data"
    }
   ],
   "source": [
    "customers_data = remotedf[(remotedf[\"Customer_Type\"] == \"Member\") | (remotedf[\"Customer_Type\"] == \"Normal\")]\n",
    "remotedf[\"Rounded Total\"] = (remotedf[\"Total\"] // 50) * 50\n",
    "customers_data.groupby([\"Rounded Total\", \"Customer_Type\"]).size().unstack().plot(kind=\"bar\", figsize=(20,10));\n",
    "\n",
    "plt.title(\"Members vs Normal Customers Sales\", fontsize=22);\n",
    "\n",
    "plt.xlabel(\"Customers Sales\", fontsize=12);\n",
    "\n",
    "plt.ylabel(\"Amount\", fontsize=12);\n",
    "\n"
   ]
  },
  {
   "attachments": {},
   "cell_type": "markdown",
   "metadata": {},
   "source": [
    "Sales made at each store location"
   ]
  },
  {
   "cell_type": "code",
   "execution_count": 8,
   "metadata": {},
   "outputs": [
    {
     "data": {
      "image/png": "[encoded data removed]",
      "text/plain": [
       "<Figure size 1584x720 with 1 Axes>"
      ]
     },
     "metadata": {
      "needs_background": "light"
     },
     "output_type": "display_data"
    }
   ],
   "source": [
    "location_data = remotedf[(remotedf[\"City\"] == \"Seattle\") | (remotedf[\"City\"] == \"New York City\") | (remotedf[\"City\"] == \"Milwaukee\")]\n",
    "location_data.groupby([\"Rounded Total\", \"City\"]).size().unstack().plot(kind=\"bar\", figsize=(22,10));\n",
    "\n",
    "plt.title(\"Each Location Sales\", fontsize=24);\n",
    "\n",
    "plt.xlabel(\"Location Sales\", fontsize=12);\n",
    "\n",
    "plt.ylabel(\"Amount\", fontsize=12);\n"
   ]
  },
  {
   "attachments": {},
   "cell_type": "markdown",
   "metadata": {},
   "source": [
    "Sales made for each product line"
   ]
  },
  {
   "cell_type": "code",
   "execution_count": 10,
   "metadata": {},
   "outputs": [
    {
     "data": {
      "image/png": "[encoded data removed]",
      "text/plain": [
       "<Figure size 1440x720 with 1 Axes>"
      ]
     },
     "metadata": {
      "needs_background": "light"
     },
     "output_type": "display_data"
    }
   ],
   "source": [
    "product_data = remotedf[(remotedf[\"Product_Line\"] == \"Fashion accessories\") | (remotedf[\"Product_Line\"] == \"Food and beverages\") |\n",
    "(remotedf[\"Product_Line\"] == \"Electronic accessories\") | (remotedf[\"Product_Line\"] == \"Sports and travel\") | (remotedf[\"Product_Line\"] == \"Home and lifestyle\") | (remotedf[\"Product_Line\"] == \"Health and beauty\")]\n",
    "\n",
    "remotedf[\"Total by Hundreds\"] = (remotedf[\"Total\"] // 100) * 100\n",
    "\n",
    "product_data.groupby([\"Total by Hundreds\", \"Product_Line\"]).size().unstack().plot(kind=\"bar\", figsize=(20,10));\n",
    "\n",
    "plt.title(\"Sales for Each Product Line\", fontsize=24);\n",
    "\n",
    "plt.xlabel(\"Product Sales\", fontsize=12);\n",
    "\n",
    "plt.ylabel(\"Amount\", fontsize=12);\n"
   ]
  },
  {
   "attachments": {},
   "cell_type": "markdown",
   "metadata": {},
   "source": [
    "What is the overall average rating, based on sales records?"
   ]
  },
  {
   "cell_type": "code",
   "execution_count": 12,
   "metadata": {},
   "outputs": [
    {
     "data": {
      "text/plain": [
       "6.972699999999995"
      ]
     },
     "execution_count": 12,
     "metadata": {},
     "output_type": "execute_result"
    }
   ],
   "source": [
    "remotedf[\"Rating\"].mean()\n"
   ]
  }
 ],
 "metadata": {
  "kernelspec": {
   "display_name": "base",
   "language": "python",
   "name": "python3"
  },
  "language_info": {
   "codemirror_mode": {
    "name": "ipython",
    "version": 3
   },
   "file_extension": ".py",
   "mimetype": "text/x-python",
   "name": "python",
   "nbconvert_exporter": "python",
   "pygments_lexer": "ipython3",
   "version": "3.9.12"
  },
  "orig_nbformat": 4,
  "vscode": {
   "interpreter": {
    "hash": "900b6da1c5c01383b7234168464df4fec7bbba53a0051a421ca39a9e75eae934"
   }
  }
 },
 "nbformat": 4,
 "nbformat_minor": 2
}
